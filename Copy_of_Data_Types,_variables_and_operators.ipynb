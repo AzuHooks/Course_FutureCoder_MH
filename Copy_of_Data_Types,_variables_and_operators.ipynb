{
  "nbformat": 4,
  "nbformat_minor": 0,
  "metadata": {
    "colab": {
      "provenance": [],
      "include_colab_link": true
    },
    "kernelspec": {
      "name": "python3",
      "display_name": "Python 3"
    },
    "language_info": {
      "name": "python"
    }
  },
  "cells": [
    {
      "cell_type": "markdown",
      "metadata": {
        "id": "view-in-github",
        "colab_type": "text"
      },
      "source": [
        "<a href=\"https://colab.research.google.com/github/AzuHooks/Course_FutureCoder_MH/blob/main/Copy_of_Data_Types%2C_variables_and_operators.ipynb\" target=\"_parent\"><img src=\"https://colab.research.google.com/assets/colab-badge.svg\" alt=\"Open In Colab\"/></a>"
      ]
    },
    {
      "cell_type": "markdown",
      "source": [
        "# Data types and Variables\n",
        "---\n",
        "\n",
        "A variable is a placeholder for data.  It will have:\n",
        "*  a meaningful name that indicates what data is stored in it (you will often need to decide on the name\n",
        "*  a type of data it will hold (this will dictate what can be done with that data)  \n",
        "\n",
        "### Creating a new variable\n",
        "\n",
        "We do this using the assignment operator:\n",
        "\n",
        "` name = \"Susan\"`\n",
        "\n",
        "The variable **name** is a string variable because the data assigned to it when it was created was a string.\n",
        "\n",
        "`age = 21`\n",
        "\n",
        "The variable **age** is an integer variable (a whole number) because the data assigned to it when it was created was a whole number.\n",
        "\n",
        "` height = 1.67`\n",
        "\n",
        "The variable **height** is a float variable (a decimal number) because the data assigned to it when it was created was a decimal number.\n",
        "\n",
        "`clicked_on = True`\n",
        "\n",
        "The variable **clicked_on** is a boolean variable (True or False - the capitals are significant) because the data assigned to it when it was create was True, one of the two options.\n",
        "\n",
        "**Recap**: Variables can store data of different types.  \n",
        "*   **int** (whole numbers, e.g. 4, 523, 1984)  \n",
        "*   **float** (decimal numbers e.g. 4.3, )  \n",
        "*   **str** (strings of characters)  \n",
        "*   **bool** (True or False)  \n",
        "\n",
        "Variables can also store structured data (**lists, tuples, dictionaries,** etc)\n",
        "\n",
        "`scores = [34,56,27,84,65]`  The variable scores is holding a list of integers\n",
        "\n",
        "`column_headings = (\"Age\", \"Income\", \"Population\") The variable **column_headings** is holding a tuple of strings, a tuple can't be changed after it has been assigned, whereas a list can\n",
        "\n",
        "`person = {\"Name\":\"Susan\", \"Age\":21, \"Height\":1.67}`  The variable **person** is holding a dictionary, a set of data each with a label or key and a value.\n",
        "\n",
        "You can '**assign**' a value to a variable using the **=** sign.\n",
        "\n",
        "### Changing a variable's type\n",
        "Occasionally we need to change the type of a variable after it has been assigned.  This might be because when the variable was first assigned a value, it came from a process which produced it as a different type.\n",
        "\n",
        "For example, the input command to get input from a keyboard can only produce data as a string.  If the data needed was a number, then it can be cast as an integer like this:\n",
        "\n",
        "`age = int(input(\"Enter your age: \"))`"
      ],
      "metadata": {
        "id": "z4AJX53csYS7"
      }
    },
    {
      "cell_type": "markdown",
      "metadata": {
        "id": "bUfEgyAJBgxX"
      },
      "source": [
        "## Using variables of different types and functions\n",
        "----\n",
        "### Exercise 1\n",
        "The cell below contains a function. Functions are named sets of instructions that do one particular thing, often creating a new set of data but sometimes just setting something up.  \n",
        "\n",
        "A function starts with the keyword def (short for define or definition). All instructions below the definition are indented and this indicates that they are part of that function. A function runs when its name is used outside the function (here it is not indented). The indentation is important, note where the code is and isn't indented.  \n",
        "\n",
        "*  create a variable called **name** and assign it a value (any name)  \n",
        "*  print the message “Hello” name  \n",
        "*  change the value of `name` and run the code again to get a new message"
      ]
    },
    {
      "cell_type": "code",
      "metadata": {
        "id": "4oPwx_yTf-yt",
        "outputId": "1fcdc55c-3248-45f3-d496-685f24017823",
        "colab": {
          "base_uri": "https://localhost:8080/"
        }
      },
      "source": [
        "def print_welcome():\n",
        "   # create the variable called name below here (indented like this line) and add the instruction print(\"Hello\",name)\n",
        "  name = \"miriam\"\n",
        "  print (\"hello, name\")\n",
        "  \n",
        "print_welcome()"
      ],
      "execution_count": null,
      "outputs": [
        {
          "output_type": "stream",
          "name": "stdout",
          "text": [
            "hello, name\n"
          ]
        }
      ]
    },
    {
      "cell_type": "markdown",
      "metadata": {
        "id": "apeD48hhB1Ns"
      },
      "source": [
        "----\n",
        "### Exercise 2\n",
        "*  create two variables **num1** and **num2** and assign them each a whole number  \n",
        "*  create a third variable **total** which will store the sum of num1 + num2  \n",
        "*  run the code.  \n",
        "\n",
        "Change the value of one of the numbers and run the code again to get new messages and a new total."
      ]
    },
    {
      "cell_type": "code",
      "metadata": {
        "id": "T6WtdKMiCGh-",
        "outputId": "b354af7e-04b7-486a-bd0f-a5259a534496",
        "colab": {
          "base_uri": "https://localhost:8080/"
        }
      },
      "source": [
        "def print_total():\n",
        "  # add your code below here\n",
        "\n",
        "  num1 = 101\n",
        "  num2 = 202 \n",
        "  total = num1 + num2\n",
        "  \n",
        "  print(num1, \"+\", num2, \"=\", total)\n",
        "\n",
        "print_total()"
      ],
      "execution_count": null,
      "outputs": [
        {
          "output_type": "stream",
          "name": "stdout",
          "text": [
            "101 + 202 = 303\n"
          ]
        }
      ]
    },
    {
      "cell_type": "markdown",
      "metadata": {
        "id": "r8O47uBPW9Gy"
      },
      "source": [
        "---\n",
        "### Exercise 3 - converting float to int\n",
        "\n",
        "Write a function called **count_poundCoins()** which will:  \n",
        "\n",
        "*  ask the user to enter an amount in pounds and pence and assign this value to a float variable called **pounds_pence**  \n",
        "*  convert the float variable to int and assign this value to a variable called **pound_coins**  \n",
        "*  print the message Number of pound coins `pound_coins`  \n",
        "\n",
        "Test input:  \n",
        "3.48  \n",
        "\n",
        "Expected output:  \n",
        "Number of pound coins 3\n",
        "\n"
      ]
    },
    {
      "cell_type": "code",
      "metadata": {
        "id": "aTO1l1iNXUNt",
        "colab": {
          "base_uri": "https://localhost:8080/"
        },
        "outputId": "0b58bda8-63b8-407d-fd17-76db2e23d61c"
      },
      "source": [
        "def print_count_poundCoins(): \n",
        "\n",
        "     pounds_pence = float(input(\"Enter amount in pounds and pence: \"))\n",
        "     pounds_coin  = int(pounds_pence)\n",
        "     print(pounds_coin)\n",
        "\n",
        "print_count_poundCoins()\n"
      ],
      "execution_count": null,
      "outputs": [
        {
          "output_type": "stream",
          "name": "stdout",
          "text": [
            "Enter amount in pounds and pence: 10.23\n",
            "10\n"
          ]
        }
      ]
    },
    {
      "cell_type": "markdown",
      "metadata": {
        "id": "Wy_L3E_-XUWa"
      },
      "source": [
        "---\n",
        "### Exercise 4 - converting int to string\n",
        "\n",
        "Write a function called **format_currency()** which will:\n",
        "\n",
        "*  ask the user to enter a number of pounds and assign this to an integer variable called **num_pounds**  \n",
        "*  convert numPounds to a string and assign it to a variable called **pounds**  \n",
        "*  create a String variable called **currency** which has a \"£\", pounds, \".00\" joined together\n",
        "*  print the resulting currency, including the £ sign  \n",
        "\n",
        "Test input:  \n",
        "4\n",
        "\n",
        "Expected output:  \n",
        "£4.00\n"
      ]
    },
    {
      "cell_type": "code",
      "metadata": {
        "id": "2hHoJyjMXXUK",
        "colab": {
          "base_uri": "https://localhost:8080/"
        },
        "outputId": "201288a9-014c-4945-a3e8-7a620a9cfe2a"
      },
      "source": [
        "def format_currency(): \n",
        "\n",
        "     num_pounds = int(input(\"Enter amount in pounds: \"))\n",
        "     pounds  = str(num_pounds)\n",
        "     currency = str(\"£\" + pounds +\".00\")\n",
        "     print(currency)\n",
        "\n",
        "format_currency()"
      ],
      "execution_count": null,
      "outputs": [
        {
          "output_type": "stream",
          "name": "stdout",
          "text": [
            "Enter amount in pounds: 125\n",
            "£125.00\n"
          ]
        }
      ]
    },
    {
      "cell_type": "markdown",
      "metadata": {
        "id": "nBZqJ5d7XXdc"
      },
      "source": [
        "---\n",
        "### Exercise 5 - area of a circle\n",
        "\n",
        "Write a function called **calculate_area()** which will:\n",
        "\n",
        "*  ask the user to enter the **radius** of a circle (which could be a float or an int)  \n",
        "*  create a variable called **pi** and assign it the value 3.14159\n",
        "*  calculate the **area** of the circle (pi * radius * radius)  \n",
        "*  print the area of the circle to 2 decimal places.  \n",
        "\n",
        "Test input:  \n",
        "5\n",
        "\n",
        "Expected output:  \n",
        "78.54"
      ]
    },
    {
      "cell_type": "code",
      "source": [
        "def calculate_area(): \n",
        "\n",
        "     radius = float(input(\"Enter radius: \"))\n",
        "     pi = 3.14159\n",
        "     area = float(pi*radius*radius)\n",
        "     print(\"Area =\", area)\n",
        "\n",
        "calculate_area() "
      ],
      "metadata": {
        "colab": {
          "base_uri": "https://localhost:8080/"
        },
        "id": "c8C-_bXphpWf",
        "outputId": "5ddf93fb-77ea-489e-b043-9ba3f2f75c39"
      },
      "execution_count": null,
      "outputs": [
        {
          "output_type": "stream",
          "name": "stdout",
          "text": [
            "Enter radius: 2.3\n",
            "Area = 16.619011099999998\n"
          ]
        }
      ]
    },
    {
      "cell_type": "markdown",
      "metadata": {
        "id": "Vc435xArCR41"
      },
      "source": [
        "---\n",
        "### Exercise 6 - variables of different types\n",
        "*  create a variable called **name** and assign it the value \"Billy\"  \n",
        "*  create a variable called **age** and assign it the value 18  \n",
        "*  print a message \"Hello `name` you are `age` years old\" \n",
        "\n",
        "Test input:  \n",
        "Billy  \n",
        "18  \n",
        "\n",
        "Expected output:  \n",
        "Hello Billy you are 18 years old"
      ]
    },
    {
      "cell_type": "code",
      "metadata": {
        "id": "EmO5dR9nCYpE",
        "colab": {
          "base_uri": "https://localhost:8080/"
        },
        "outputId": "443f6258-8699-49e2-ed58-039a37a38a89"
      },
      "source": [
        "def print_info():\n",
        "   # add your code below here\n",
        "   name = str(\"Billy\")\n",
        "   age = int(18)\n",
        "   print(\"Hello:\",name,\",\",\"You are:\", age, \"today\" )\n",
        "  \n",
        "\n",
        "print_info()"
      ],
      "execution_count": null,
      "outputs": [
        {
          "output_type": "stream",
          "name": "stdout",
          "text": [
            "Hello: Billy , You are: 18 today\n"
          ]
        }
      ]
    },
    {
      "cell_type": "markdown",
      "metadata": {
        "id": "xtPVg1k5CklX"
      },
      "source": [
        "---\n",
        "### Exercise 7 - float variables (and writing your own function)\n",
        "Write a function called **print_price()** which will:  \n",
        "\n",
        "*  create a variable called **product** and assign the value \"Chocolate Bar\"  \n",
        "*  create a variable called **cost** and assign the value 1.39  \n",
        "*  print the message `product`, \"costs\", \"£\", `cost`  \n",
        "\n",
        "Expected output:  \n",
        "Chocolate Bar costs £ 1.39"
      ]
    },
    {
      "cell_type": "code",
      "metadata": {
        "id": "uUqY-_PbCsfN",
        "colab": {
          "base_uri": "https://localhost:8080/"
        },
        "outputId": "e236287f-fde4-4698-ec78-2cf3c6ef9823"
      },
      "source": [
        "def print_price():\n",
        "   # add your code below here\n",
        "   product = str(\"Chocolate Bar\")\n",
        "   cost = float(1.39)\n",
        "   print(\"Product:\",product)\n",
        "   print(\"Cost:\",\"£\",cost)\n",
        "  \n",
        "\n",
        "print_price()"
      ],
      "execution_count": null,
      "outputs": [
        {
          "output_type": "stream",
          "name": "stdout",
          "text": [
            "Product: Chocolate Bar\n",
            "Cost: £ 1.39\n"
          ]
        }
      ]
    },
    {
      "cell_type": "markdown",
      "metadata": {
        "id": "HXK-Dn_eCtDN"
      },
      "source": [
        "---\n",
        "### Exercise 8 - concatenating strings\n",
        "Write a function called **print_full_name()** which will:  \n",
        "\n",
        "*  create variable called **name** and assign it the value \"Monty\"  \n",
        "*  create a variable called **surname** and assign it the value \"Python\"  \n",
        "*  create a variable called **full_name** and assign it the value `name` + \" \" + `surname`  \n",
        "*  print the `full_name`  \n",
        "\n",
        "Expected output:  \n",
        "Monty Python"
      ]
    },
    {
      "cell_type": "code",
      "metadata": {
        "id": "YJeP2teXC0cV",
        "colab": {
          "base_uri": "https://localhost:8080/"
        },
        "outputId": "6edc9df3-5920-46d7-80c7-6199ea6bf871"
      },
      "source": [
        "def print_full_name():\n",
        "   # add your code below here\n",
        "   name = str(\"Monty\")\n",
        "   surname = str(\"Python\")\n",
        "   full_name = str(name + \" \" + surname)\n",
        "   print(full_name)\n",
        "  \n",
        "print_full_name()"
      ],
      "execution_count": null,
      "outputs": [
        {
          "output_type": "stream",
          "name": "stdout",
          "text": [
            "Monty Python\n"
          ]
        }
      ]
    },
    {
      "cell_type": "markdown",
      "source": [
        "# Operators\n",
        "\n"
      ],
      "metadata": {
        "id": "KyJ83QItw3ry"
      }
    },
    {
      "cell_type": "markdown",
      "metadata": {
        "id": "Nk7bg_hfLzu7"
      },
      "source": [
        "In Python, we can use the following arithmetic operators:  \n",
        "\n",
        "![Python operators](https://drive.google.com/uc?id=1EARs0OefvMwAULyNGGs01xYLW3lIAO9B)\n",
        "\n",
        "\n",
        "\n",
        "\n",
        "\n",
        "\n",
        "\n",
        "\n",
        "\n"
      ]
    },
    {
      "cell_type": "markdown",
      "metadata": {
        "id": "fvxtRRcfOnGr"
      },
      "source": [
        "---\n",
        "### Exercise 9 - BIDMAS\n",
        "Write a function called **calculate_average()** which will:  \n",
        "\n",
        "*  ask the user for 3 seperate numbers, **num1**, **num2**, **num3**  \n",
        "*  calculate the **average** of the three numbers\n",
        "*  print the `average`, rounded to 2 decimal places  \n",
        "\n",
        "*Hint 1:  to round a number, use round(), e.g. round(`average`)  *\n",
        "*Hint 2: remember the BIDMAS order of operators and use brackets to change the order if necessary.*  \n",
        "\n",
        "Test Input:  \n",
        "3  \n",
        "5  \n",
        "9  \n",
        "\n",
        "Expected output:  \n",
        "5.67"
      ]
    },
    {
      "cell_type": "code",
      "metadata": {
        "id": "jYtLq8olPRZM",
        "colab": {
          "base_uri": "https://localhost:8080/"
        },
        "outputId": "ac267824-6ce3-421c-805a-9d1abff99c2b"
      },
      "source": [
        "from traitlets.traitlets import Float\n",
        "def calculate_average():\n",
        "   # add your code below here\n",
        "   num1 = float(input( \"Please enter 1 number:\"))\n",
        "   num2 = float(input(\"Please enter 2 number:\"))\n",
        "   num3 = float(input(\"Please enter 3 number: \"))\n",
        "   average = float((num1+num2+num3)/3)\n",
        "\n",
        "   print(\"The average number:\",round(average,2))\n",
        "  \n",
        "calculate_average()"
      ],
      "execution_count": null,
      "outputs": [
        {
          "output_type": "stream",
          "name": "stdout",
          "text": [
            "Please enter 1 number:3\n",
            "Please enter 2 number:5\n",
            "Please enter 3 number: 9\n",
            "The average number: 5.67\n"
          ]
        }
      ]
    },
    {
      "cell_type": "markdown",
      "metadata": {
        "id": "r9w0fiW-PR2D"
      },
      "source": [
        "---\n",
        "### Exercise 10 - BIDMAS\n",
        "\n",
        "Write a function called **calculate_avg_height()** which will:  \n",
        "\n",
        "*  ask the user to input their **height**  \n",
        "*  convert `height` to **height_centimeters** (multiply by 100)  \n",
        "*  print `height_centimeters`  \n",
        "\n",
        "*Remember, height in metres is usually a decimal, so data type matters*  \n",
        "\n",
        "Test Input:  \n",
        "1.67  \n",
        "\n",
        "Expected output:  \n",
        "167\n"
      ]
    },
    {
      "cell_type": "code",
      "metadata": {
        "id": "DXqxS75kQWOm",
        "colab": {
          "base_uri": "https://localhost:8080/"
        },
        "outputId": "6d4ace39-ba49-4df0-9498-c4d153c89cea"
      },
      "source": [
        "def calculate_avg_height():\n",
        "   # add your code below here\n",
        "   height = float(input( \"Please enter your height:\"))\n",
        "   height_centimeters = int(height*100) \n",
        "   print(\"Your height in centimiter is:\",int(height_centimeters))\n",
        "  \n",
        "calculate_avg_height()"
      ],
      "execution_count": null,
      "outputs": [
        {
          "output_type": "stream",
          "name": "stdout",
          "text": [
            "Please enter your height:1.67\n",
            "Your height in centimiter is: 167\n"
          ]
        }
      ]
    },
    {
      "cell_type": "markdown",
      "metadata": {
        "id": "jsV3uF5aRZ56"
      },
      "source": [
        "---\n",
        "### Exercise 11 - calculating volume\n",
        "\n",
        "Bill is moving house. He needs to know how much space his cardboard packing boxes have.   \n",
        "\n",
        "Write a function called **calculate_volume()** which will:   \n",
        "\n",
        "*  assign the value 3.2, 5.6 and 7.8 to the variables **base**, **width** and **height** respectively  \n",
        "*  calculate the **box_volume** rounded to 1 decimal place  \n",
        "*  print the `box_volume`\n",
        "\n",
        "*Hint: volume = base x width x height*\n",
        "\n",
        "Expected output:  \n",
        "139.8\n"
      ]
    },
    {
      "cell_type": "code",
      "metadata": {
        "id": "WVLFFYayRwcN",
        "colab": {
          "base_uri": "https://localhost:8080/"
        },
        "outputId": "2032963f-ff63-40d7-eed6-9f8344fc473b"
      },
      "source": [
        "def calculate_volume() :\n",
        "   # add your code below here\n",
        "   base = 3.2\n",
        "   width = 5.6\n",
        "   height = 7.8 \n",
        "  \n",
        "   box_volume = float(base*width*height) \n",
        "   print(\"Your volume is:\",float(round(box_volume,1)))\n",
        "  \n",
        "calculate_volume() "
      ],
      "execution_count": null,
      "outputs": [
        {
          "output_type": "stream",
          "name": "stdout",
          "text": [
            "Your volume is: 139.8\n"
          ]
        }
      ]
    },
    {
      "cell_type": "markdown",
      "metadata": {
        "id": "Apy8QqKIB3_c"
      },
      "source": [
        "---\n",
        "***Floor Division***  \n",
        "*So far, we have been using standard arithmetic operators. If we would like to divide without remainders (eg. no decimals) we can use floor division using the // operator.  This will always round down*.  \n",
        "\n",
        "*For example*:  \n",
        "*42/8 = 5.75*  \n",
        "*BUT*  \n",
        "4*2//8 = 5*"
      ]
    },
    {
      "cell_type": "markdown",
      "metadata": {
        "id": "eGo_VENXRwo0"
      },
      "source": [
        "---\n",
        "### Exercise 12 - calculating with volumes\n",
        "\n",
        "Bill needs to work out how many boxes he will need.  \n",
        "\n",
        "Building on what you did in the last exercise, write a function called **calculate_boxes(base, width, height)** which will:  \n",
        "\n",
        "*  calculate the volume of a box, using the **base**, **width** and **height** supplied in the brackets  \n",
        "*  ask Bill for the **total_volume** of his stuff  \n",
        "*  calculate the total **number_of_boxes** he will need, and print the `number_of_boxes`  \n",
        "\n",
        "*Hint: the `total` will not be a decimal number - you should use floor division and add one to the answer (for the box that will have the leftovers).*\n",
        "\n",
        "Test Input:  \n",
        "1500  \n",
        "\n",
        "Expected output:  \n",
        "11  \n"
      ]
    },
    {
      "cell_type": "code",
      "metadata": {
        "id": "0X6TKFubSIpT",
        "colab": {
          "base_uri": "https://localhost:8080/"
        },
        "outputId": "c5c22bea-f300-4833-eadd-7caa45173c4c"
      },
      "source": [
        "def calculate_boxes():\n",
        "  # add your code below here to calculate the boxVolume, ask for totalVolume and calculate number of boxes\n",
        "  \n",
        "  volume_box =float(3.2*5.6*7.8)\n",
        "  total_volume = float(input( \"Please enter your volume needed:\"))\n",
        "  number_of_boxes = float( total_volume//volume_box)\n",
        "  print (\"Your total number of boxes you need:\",float(number_of_boxes+1))\n",
        "\n",
        "calculate_boxes()\n"
      ],
      "execution_count": null,
      "outputs": [
        {
          "output_type": "stream",
          "name": "stdout",
          "text": [
            "Please enter your volume needed:1500\n",
            "Your total number of boxes you need: 11.0\n"
          ]
        }
      ]
    }
  ]
}