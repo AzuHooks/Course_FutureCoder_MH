{
  "nbformat": 4,
  "nbformat_minor": 0,
  "metadata": {
    "colab": {
      "provenance": [],
      "include_colab_link": true
    },
    "kernelspec": {
      "name": "python3",
      "display_name": "Python 3"
    },
    "language_info": {
      "name": "python"
    }
  },
  "cells": [
    {
      "cell_type": "markdown",
      "metadata": {
        "id": "view-in-github",
        "colab_type": "text"
      },
      "source": [
        "<a href=\"https://colab.research.google.com/github/AzuHooks/Course_FutureCoder_MH/blob/main/Worksheet_Dictionaries_MH.ipynb\" target=\"_parent\"><img src=\"https://colab.research.google.com/assets/colab-badge.svg\" alt=\"Open In Colab\"/></a>"
      ]
    },
    {
      "cell_type": "markdown",
      "metadata": {
        "id": "AiiF1h2X4PHP"
      },
      "source": [
        "# Dictionaries\n",
        "\n",
        "---\n",
        "\n",
        "A **dictionary** is a collection of dissimilar data stored together in one *record*. Each item of data has a  (or key) that describes its paired value.  \n",
        "\n",
        "Create a dictionary object by declaring the set of keys and values, e.g.:\n",
        "\n",
        "```\n",
        "   transport = {\n",
        "       \"type\":\"bus\",\n",
        "       \"numPassengers\":72,\n",
        "       \"colour\":\"blue\",\n",
        "       \"fuel\":\"diesel\"\n",
        "   }\n",
        "```\n",
        "\n",
        "To access a value in a dictionary, use its key:  \n",
        "\n",
        "```\n",
        "transport[\"type\"] = \"coach\"\n",
        "transport_type = transport[\"type\"]\n",
        "transport_colour = transport[\"colour\"]\n",
        "transport[\"fuel\"] = petrol\n",
        "```\n",
        "\n",
        "To add a new key/value pair to a dictionary, simply assign a value to a new key:  \n",
        "```\n",
        "transport[\"seats\"] = 54\n",
        "```\n",
        "\n",
        "The transport dictionary will now look like this:  \n",
        "```\n",
        "   transport = {\n",
        "       \"type\":\"bus\",\n",
        "       \"numPassengers\":72,\n",
        "       \"colour\":\"blue\",\n",
        "       \"fuel\":\"diesel\",\n",
        "       \"seats\":54\n",
        "   }\n",
        "```\n",
        "\n"
      ]
    },
    {
      "cell_type": "markdown",
      "metadata": {
        "id": "1uZ5kNWB6CqK"
      },
      "source": [
        "---\n",
        "### Exercise 1 - print dictionary\n",
        "\n",
        "Write a function which will:  \n",
        "\n",
        "*  create an empty dictionary for a person (name, age and postcode, with values \"\", 0 and \"\")\n",
        "*  ask the user for name, age and postcode and assign the values to the correct keys in the dictionary  \n",
        "*  print the dictionary\n",
        "\n",
        "Test input:  \n",
        "Jack Jones  \n",
        "16  \n",
        "AB5 3DF  \n",
        "\n",
        "Expected output:  \n",
        "```{'name':'Jack Jones', 'age':16, 'postcode':'AB5 3DF'}```"
      ]
    },
    {
      "cell_type": "code",
      "metadata": {
        "id": "Ac7VQTj94Mrc",
        "colab": {
          "base_uri": "https://localhost:8080/"
        },
        "outputId": "1fac6e31-ba56-454b-b322-857aa579c205"
      },
      "source": [
        "person = {\n",
        "    'name' : \"\",\n",
        "    'age' : 0,\n",
        "    'postcode' : \"\"\n",
        "}\n",
        "def show_dict():\n",
        "    user_name = input(\"Enter name:\")\n",
        "    person[\"name\"] = user_name\n",
        "    user_age = int(input(\"Enter age:\"))\n",
        "    person[\"age\"]=user_age\n",
        "    user_postcode = input(\"Enter postcode:\")\n",
        "    person[\"postcode\"]=user_postcode\n",
        "    print(person)\n",
        "    return\n",
        "\n",
        "show_dict()"
      ],
      "execution_count": 4,
      "outputs": [
        {
          "output_type": "stream",
          "name": "stdout",
          "text": [
            "Enter name:axu\n",
            "Enter age:23\n",
            "Enter postcode:rjhter\n",
            "{'name': 'axu', 'age': 23, 'postcode': 'rjhter'}\n"
          ]
        }
      ]
    },
    {
      "cell_type": "markdown",
      "metadata": {
        "id": "0OtNqNKv7WKm"
      },
      "source": [
        "---\n",
        "### Exercise 2 - create a dictionary\n",
        "\n",
        "Write a function that will create two dictionaries,without values:  \n",
        "\n",
        "1.  person (with keys firstname, surname, birthdate, postcode)  \n",
        "2.  car (with key/value pairs as follows:  make - Vauxhall, model - Corsa, engineSize - 1199, fuelType - unleaded, num_doors - 4)  \n",
        "\n",
        "*   ask the user to enter the values for the person dictionary  \n",
        "*   print, on one line, the person's name from the person dictionary and the make of the car from the car dictionary.\n",
        "\n",
        "Test input:  \n",
        "Jack  \n",
        "Jones  \n",
        "2005/02/02    \n",
        "AB5 3DF  \n",
        "\n",
        "Expected output:  \n",
        "Jack Jones Vauxhall"
      ]
    },
    {
      "cell_type": "code",
      "metadata": {
        "id": "ZyqhaBCC-GdI",
        "colab": {
          "base_uri": "https://localhost:8080/"
        },
        "outputId": "5d9a13d7-5db4-4ef8-9680-ebc94c95b6f3"
      },
      "source": [
        "\n",
        "person = {\n",
        "    'firstname' : \"\",\n",
        "    'surname' : \"\",\n",
        "    'birthdate': \"\",\n",
        "    'postcode' : \"\"\n",
        "}\n",
        "car ={\n",
        "    'make': \"Vauxhall\",\n",
        "    'model': \"Corsa\",\n",
        "    'engineSize':1199,\n",
        "    'fuelType':\"unleaded\",\n",
        "    'num_doors':4\n",
        "}\n",
        "def accept_person():\n",
        "    user_name = input(\"Enter first name:\")\n",
        "    person[\"firstname\"] = user_name\n",
        "    user_surname = input(\"Enter surname:\")\n",
        "    person[\"surname\"]=user_surname\n",
        "    user_dob = input(\"Enter Date of Birth(yyyy/mm/dd):\")\n",
        "    person[\"birthdate\"]=user_dob\n",
        "    user_postcode = input(\"Enter postcode:\")\n",
        "    person[\"postcode\"]=user_postcode\n",
        "    return\n",
        "\n",
        "def show_dict():\n",
        "    print(\"\\n\",person[\"firstname\"],person[\"surname\"],car[\"make\"])\n",
        "    return\n",
        "    \n",
        "accept_person()\n",
        "show_dict()"
      ],
      "execution_count": 1,
      "outputs": [
        {
          "output_type": "stream",
          "name": "stdout",
          "text": [
            "Enter first name:none\n",
            "Enter surname:act\n",
            "Enter Date of Birth(yyyy/mm/dd):2020/02/25\n",
            "Enter postcode:rh kjdf\n",
            "\n",
            " none act Vauxhall\n"
          ]
        }
      ]
    },
    {
      "cell_type": "markdown",
      "metadata": {
        "id": "gYuuOUYw-G4I"
      },
      "source": [
        "---\n",
        "### Exercise 3 - check dictionary values\n",
        "\n",
        "Write a new function which will:\n",
        "\n",
        "*  set up the same two dictionaries as in Exercise 2  \n",
        "*  ask the user to enter the details to complete the person record  \n",
        "*  calculate the person's age  \n",
        "*  if the person is under 17 then print a message to say that they can't buy a car as they are too young to drive\n",
        "*  else if the person is under 25 then print a message to say that an engine size under 1200 is recommended  \n",
        "*  ask the user to enter the make of car that the person is looking for  \n",
        "*  if the user enters the same make as that stored in the car record, then print a message to say that you have one car of that make in stock and print all the details of the car that you have the record for\n",
        "*  else (if the user enters any other car make) then print a message to say sorry that you don't have any cars of that make in stock\n",
        "*  print a message to say that the user can get more details for stockist in the <user's postcode> area if they call 01234567890\n",
        "*  print a message to say \"Thank you <user's name> for using our site\"  \n",
        "\n",
        "Test input:  \n",
        "Jack  \n",
        "Jones  \n",
        "2005/02/02  \n",
        "AB5 3DF  \n",
        "Vauxhall  \n",
        "\n",
        "Expected output:  \n",
        "You are too young to drive\n",
        "\n",
        "Test input:  \n",
        "John  \n",
        "Jones  \n",
        "2003/02/02  \n",
        "AB5 3DF  \n",
        "Vauxhall \n",
        "\n",
        "Expected output:  \n",
        "An engine size under 1200 is recommended  \n",
        "We have one Vauxhall in stock, details:  \n",
        "Make - Vauxhall    \n",
        "Model - Corsa    \n",
        "Engine size - 1199  \n",
        "Fuel type - unleaded   \n",
        "Number of doors - 4  \n",
        "You can get more details of stockists near AB5 3DF on 01234567890  \n",
        "Thank you John Jones for using our site.     \n",
        "\n",
        "Test input:  \n",
        "John  \n",
        "Jones  \n",
        "2003/02/02  \n",
        "AB5 3DF  \n",
        "Ford  \n",
        "\n",
        "Expected output:  \n",
        "An engine size under 1200 is recommended  \n",
        "Sorry, we don't have any of that make in stock  \n"
      ]
    },
    {
      "cell_type": "code",
      "metadata": {
        "id": "Wp9Il2JG_hDh",
        "colab": {
          "base_uri": "https://localhost:8080/"
        },
        "outputId": "7f135a1b-b31b-4643-dd98-469b804e3b4f"
      },
      "source": [
        "from datetime import datetime\n",
        "person = {\n",
        "    'firstname' : \"\",\n",
        "    'surname' : \"\",\n",
        "    'birthdate': \"\",\n",
        "    'postcode' : \"\"\n",
        "}\n",
        "car ={\n",
        "    'make': \"Vauxhall\",\n",
        "    'model': \"Corsa\",\n",
        "    'engineSize':1199,\n",
        "    'fuelType':\"unleaded\",\n",
        "    'num_doors':4\n",
        "}\n",
        "def check_age(birth_date):\n",
        "    age = (datetime.today() - datetime.strptime(birth_date,\"%Y/%m/%d\"))\n",
        "    calc_days = age.days // 365\n",
        "    return calc_days\n",
        "\n",
        "def accept_person():\n",
        "    print(\"Please enter following details\")\n",
        "    user_name = input(\"Enter first name:\")\n",
        "    person[\"firstname\"] = user_name\n",
        "    user_surname = input(\"Enter surname:\")\n",
        "    person[\"surname\"]=user_surname\n",
        "    user_age = input(\"Enter birthdate(yyyy/mm/dd):\")\n",
        "    checked_dob = check_age(user_age)\n",
        "\n",
        "    if checked_dob < 17:\n",
        "        print(\"You can't buy a car. You are too young to drive.\")\n",
        "        return\n",
        "    elif checked_dob <  25:\n",
        "        person[\"age\"]=user_age\n",
        "        user_postcode = input(\"Enter postcode:\")\n",
        "        person[\"postcode\"]=user_postcode\n",
        "        user_make = input(\"Enter make of car:\")\n",
        "        if user_make in car[\"make\"]:\n",
        "          print(\"An engine size under 1200 is recommended.\")\n",
        "          print(\"We have one \",car[\"make\"],\" in stock. Details:\")\n",
        "          show_dict()\n",
        "        else:\n",
        "            print(\"Sorry we do not have that model.\")\n",
        "    return\n",
        "\n",
        "def show_dict():\n",
        "    print(\"Make - \",car[\"make\"])\n",
        "    print(\"Model - \", car[\"model\"])\n",
        "    print(\"Engine Size - \", car[\"engineSize\"])\n",
        "    print(\"Fuel Type - \", car[\"fuelType\"])\n",
        "    print(\"No. of doors - \", car[\"num_doors\"])\n",
        "    print(\"You can get more stockiest near \",person[\"postcode\"],\" on 01234567890\")\n",
        "    print(\"Thank you \",person[\"firstname\"],person[\"surname\"],\" for using our site.\")\n",
        "    return\n",
        "\n",
        "accept_person()\n"
      ],
      "execution_count": 6,
      "outputs": [
        {
          "output_type": "stream",
          "name": "stdout",
          "text": [
            "Please enter following details\n",
            "Enter first name:asdf\n",
            "Enter surname:sdfg\n",
            "Enter birthdate(yyyy/mm/dd):2120/05/21\n",
            "You can't buy a car. You are too young to drive.\n"
          ]
        }
      ]
    },
    {
      "cell_type": "markdown",
      "metadata": {
        "id": "I6dUiRwn7Gkg"
      },
      "source": [
        "---\n",
        "### Exercise 4 - print keys and values\n",
        "\n",
        "Two dictionaries have been created below.  You can print a list of the dictionary's keys using `dictionary_name.keys()` and the values using `dictionary_name.values()`\n",
        "\n",
        "Write a function which will accept a dictionary as a parameter and will:  \n",
        "*  print the dictionary keys as a list   \n",
        "*  print the dictionary values as a list  \n",
        "\n",
        "*Hint*:  you will need to cast the keys as a list (`list(dictionary_name.keys()`)  and do the same for the values.\n",
        "\n",
        "**Expected Output**\n",
        "\n",
        "Input: English  \n",
        "Output: \n",
        "['Andy', 'Angela']  \n",
        "[95, 53]  \n",
        "\n",
        "Input: Maths  \n",
        "Output:  \n",
        "['Andy', 'Angela']  \n",
        "[58, 72] \n",
        " \n",
        "\n",
        "\n"
      ]
    },
    {
      "cell_type": "code",
      "metadata": {
        "id": "FApOckhJEsMs",
        "colab": {
          "base_uri": "https://localhost:8080/"
        },
        "outputId": "29bcc7fd-6d4f-4d8b-e707-0fbcf72cb55e"
      },
      "source": [
        "\n",
        "english_scores = {'Andy': 95, 'Angela': 53}\n",
        "maths_scores = {'Andy': 58, 'Angela': 72}\n",
        "\n",
        "def display_dictionary(scores):\n",
        "  #  add your code below this line\n",
        "  list_keys = list(scores.keys())\n",
        "  print(list_keys)\n",
        "  list_values = list(scores.values())\n",
        "  print(list_values)\n",
        "  return\n",
        "\n",
        "subject = input(\"Enter subject:\")\n",
        "if subject == \"English\":\n",
        "  display_dictionary(english_scores)\n",
        "elif subject == \"Maths\":\n",
        "  display_dictionary(maths_scores)\n",
        "else:\n",
        "  print(\"Not available.\")"
      ],
      "execution_count": 9,
      "outputs": [
        {
          "output_type": "stream",
          "name": "stdout",
          "text": [
            "Enter subject:english\n",
            "Not available.\n"
          ]
        }
      ]
    },
    {
      "cell_type": "markdown",
      "metadata": {
        "id": "segSpkmBFSJl"
      },
      "source": [
        "---\n",
        "### Exercise 5 - add field\n",
        "\n",
        "Write a function which will:\n",
        "\n",
        "*  create a new dictionary called **science_scores** with values of 0 for both Andy and Angela\n",
        "*  update Andy's score for science to 73 and Angela's score to 73   \n",
        "*  create a new key/value pair by adding another learner to the `science_scores`  dictionary (George has a score of 55)    \n",
        "*  print the `science_scores` dictionary to check results  \n",
        "\n",
        "Expected Output\n",
        "\n",
        "{'Andy': 73, 'Angela': 73, 'George': 55}"
      ]
    },
    {
      "cell_type": "code",
      "metadata": {
        "id": "BL1JM-Z7Gttf",
        "colab": {
          "base_uri": "https://localhost:8080/"
        },
        "outputId": "92f8a8c3-9261-42a9-b473-21dbc7066f11"
      },
      "source": [
        "\n",
        "science_scores = {\n",
        "    'Andy':0,\n",
        "    'Angela':0\n",
        "}\n",
        "def update_scores():\n",
        "  science_scores.update({\"Andy\":73})\n",
        "  science_scores.update({\"Angela\":73})\n",
        "  science_scores[\"George\"]=55\n",
        "  return\n",
        "  \n",
        "update_scores()\n",
        "print(science_scores)"
      ],
      "execution_count": 11,
      "outputs": [
        {
          "output_type": "stream",
          "name": "stdout",
          "text": [
            "{'Andy': 73, 'Angela': 73, 'George': 55}\n"
          ]
        }
      ]
    },
    {
      "cell_type": "markdown",
      "metadata": {
        "id": "_Vzv0zlHGt-C"
      },
      "source": [
        "---\n",
        "### Exercise 6 - loop through keys/value pairs\n",
        "\n",
        "Write a function which will use a *for* loop to print the each key/value pair in the science dictionary (recreate this dictionary in this function) \n",
        "\n",
        "*(Hint: you can iterate through the key/value pairs in the dictionary in the same way as you iterate through a loop (e.g. for record in dictionary) and print the record (which is the key) and its value)*\n",
        "\n",
        "Expected output:  \n",
        "\n",
        "Angela 72  \n",
        "Andy 72  \n",
        "George 55  "
      ]
    },
    {
      "cell_type": "code",
      "metadata": {
        "id": "JL40_-W-Hxnt",
        "colab": {
          "base_uri": "https://localhost:8080/"
        },
        "outputId": "0bc79a5a-4e8a-41dc-e729-53bd1d6cf586"
      },
      "source": [
        "\n",
        "science_scores = {\n",
        "    'Andy':72,\n",
        "    'Angela':72,\n",
        "    'George':55\n",
        "}\n",
        "def show_dict_score():\n",
        "  for each in science_scores:\n",
        "    print(each, science_scores[each])\n",
        "  return\n",
        "\n",
        "show_dict_score()"
      ],
      "execution_count": 12,
      "outputs": [
        {
          "output_type": "stream",
          "name": "stdout",
          "text": [
            "Andy 72\n",
            "Angela 72\n",
            "George 55\n"
          ]
        }
      ]
    },
    {
      "cell_type": "markdown",
      "metadata": {
        "id": "G9wamxzRJdrE"
      },
      "source": [
        "---\n",
        "### Exercise 7 - generate new dictionary  \n",
        "\n",
        "Write a functions which will:\n",
        "*  create a new dictionary where the keys are numbers between 1 and 15 (both included) and the values are square of keys\n",
        "*  print the dictionary\n",
        "\n",
        "Expected output:  \n",
        "{1: 1, 2: 4, 3: 9, 4: 16, 5: 25, 6: 36, 7: 49, 8: 64, 9: 81, 10: 100, 11: 121, 12: 144, 13: 169, 14: 196, 15: 225}"
      ]
    },
    {
      "cell_type": "code",
      "metadata": {
        "id": "1-LI-LVrJ--N",
        "colab": {
          "base_uri": "https://localhost:8080/"
        },
        "outputId": "3348cfec-5382-4530-be62-7ffc892f9741"
      },
      "source": [
        "\n",
        "new_dict={}\n",
        "def make_squares():\n",
        "    for i in range(1,16):\n",
        "        new_dict[i] = i**2\n",
        "    return\n",
        "\n",
        "make_squares()\n",
        "print(new_dict)"
      ],
      "execution_count": 13,
      "outputs": [
        {
          "output_type": "stream",
          "name": "stdout",
          "text": [
            "{1: 1, 2: 4, 3: 9, 4: 16, 5: 25, 6: 36, 7: 49, 8: 64, 9: 81, 10: 100, 11: 121, 12: 144, 13: 169, 14: 196, 15: 225}\n"
          ]
        }
      ]
    },
    {
      "cell_type": "markdown",
      "metadata": {
        "id": "t0y4mefwJ_jQ"
      },
      "source": [
        "---\n",
        "### Exercise 8 - colour dictionary  \n",
        "\n",
        "Write a function which will:  \n",
        "*  create a new dictionary record called colour_codes with the values 'red' - '#FF0000', 'green' - '#008000', 'black' - '#000000', 'white' - '#FFFFFF'\n",
        "*  add a new colour code:  'blue' - '#0000FF'    \n",
        "*  remove the colours black and white from the dictionary  \n",
        "\n",
        "*Hint:  there is a list of methods [here](https://www.w3schools.com/python/python_ref_dictionary.asp)*  "
      ]
    },
    {
      "cell_type": "code",
      "metadata": {
        "id": "yod1mUNOMeWg",
        "colab": {
          "base_uri": "https://localhost:8080/"
        },
        "outputId": "4fd753ea-7e21-4e27-fe9a-2d8459f8f644"
      },
      "source": [
        "\n",
        "colour_codes={\n",
        "    'red'   : '#FF0000',\n",
        "    'green' : '#008000',\n",
        "    'black' : '#000000',\n",
        "    'white' : '#FFFFFF'\n",
        "}\n",
        "def add_colour():\n",
        "    colour_codes.update({'blue': '#0000FF'})\n",
        "    return\n",
        "    \n",
        "def dict_remove():\n",
        "    colour_codes.pop('white')\n",
        "    colour_codes.pop('black')\n",
        "    return\n",
        "   \n",
        "print(\"Original Dictionary\")\n",
        "print(colour_codes)\n",
        "add_colour()\n",
        "dict_remove()\n",
        "print(\"After updation\")\n",
        "print(colour_codes)\n",
        "     "
      ],
      "execution_count": 14,
      "outputs": [
        {
          "output_type": "stream",
          "name": "stdout",
          "text": [
            "Original Dictionary\n",
            "{'red': '#FF0000', 'green': '#008000', 'black': '#000000', 'white': '#FFFFFF'}\n",
            "After updation\n",
            "{'red': '#FF0000', 'green': '#008000', 'blue': '#0000FF'}\n"
          ]
        }
      ]
    },
    {
      "cell_type": "markdown",
      "metadata": {
        "id": "gjos_0vuMeyS"
      },
      "source": [
        "---\n",
        "### Exercise 9 - item tuples  \n",
        "\n",
        "Write a function which will:  \n",
        "*  create a new dictionary containing the colour codes for red, green, blue, black and white\n",
        "*  print the key/value pairs of a dictionary as a list of tuples  \n",
        "\n",
        "*Hint:  iterate through colours.items()*"
      ]
    },
    {
      "cell_type": "code",
      "metadata": {
        "id": "EzuMkUypOKTY",
        "colab": {
          "base_uri": "https://localhost:8080/"
        },
        "outputId": "a5d97f87-37c1-4edd-e5b8-78dfc14592f1"
      },
      "source": [
        "\n",
        "colour_codes={\n",
        "    'red'   : '#FF0000',\n",
        "    'green' : '#008000',\n",
        "    'black' : '#000000',\n",
        "    'white' : '#FFFFFF'\n",
        "}\n",
        "def list_of_tuples():\n",
        "  tuples_list = [(key, value) for key, value in colour_codes.items()]\n",
        "  print(tuples_list)\n",
        "  return\n",
        "print(\"List of tuples\")\n",
        "list_of_tuples()"
      ],
      "execution_count": 15,
      "outputs": [
        {
          "output_type": "stream",
          "name": "stdout",
          "text": [
            "List of tuples\n",
            "[('red', '#FF0000'), ('green', '#008000'), ('black', '#000000'), ('white', '#FFFFFF')]\n"
          ]
        }
      ]
    },
    {
      "cell_type": "markdown",
      "metadata": {
        "id": "Jw1ot10cOc6r"
      },
      "source": [
        "---\n",
        "### Exercise 10 - check if empty\n",
        "Taken from w3resouce.com  \n",
        "\n",
        "Write a function which will check if a dictionary is empty or not\n",
        "\n",
        "*Hint:  you can use bool(dictionary_name), if the dictionary is empty then bool(dictionary_name will be false)*\n",
        "\n",
        "Test 1 sample data:\n",
        "{}\n",
        "\n",
        "Expected output:\n",
        "Dictionary is empty  \n",
        "\n",
        "Test 2 sample data:  \n",
        "{\"name\":\"Groucho\", \"occupation\":\"comedian\"}\n",
        "\n",
        "Expected output:  \n",
        "Dictionary is not empty"
      ]
    },
    {
      "cell_type": "code",
      "metadata": {
        "id": "7UdM1TfwRqnt",
        "colab": {
          "base_uri": "https://localhost:8080/"
        },
        "outputId": "22d8fe3c-e1cd-431a-9a35-f560a5b86381"
      },
      "source": [
        "dict_sample1 = {}\n",
        "dict_sample2 = {\"name\":\"Groucho\", \"occupation\":\"comedian\"}\n",
        "\n",
        "def check_dict_empty(my_dict):\n",
        "  if not bool(my_dict):\n",
        "    print(\"Dictionary is empty.\")\n",
        "  else:\n",
        "    print(\"Dictionary is not empty.\")\n",
        "  return\n",
        "\n",
        "check_dict_empty(dict_sample1)\n",
        "check_dict_empty(dict_sample2)"
      ],
      "execution_count": 16,
      "outputs": [
        {
          "output_type": "stream",
          "name": "stdout",
          "text": [
            "Dictionary is empty.\n",
            "Dictionary is not empty.\n"
          ]
        }
      ]
    }
  ]
}