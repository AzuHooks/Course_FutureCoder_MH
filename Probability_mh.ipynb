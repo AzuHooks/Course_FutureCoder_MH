{
  "cells": [
    {
      "cell_type": "markdown",
      "metadata": {
        "id": "view-in-github",
        "colab_type": "text"
      },
      "source": [
        "<a href=\"https://colab.research.google.com/github/AzuHooks/Course_FutureCoder_MH/blob/main/Probability_mh.ipynb\" target=\"_parent\"><img src=\"https://colab.research.google.com/assets/colab-badge.svg\" alt=\"Open In Colab\"/></a>"
      ]
    },
    {
      "cell_type": "markdown",
      "metadata": {
        "id": "3gcMovYlDAqT"
      },
      "source": [
        "# Probability \n",
        "---\n",
        "Probability is how likely it is an event will happen.\n",
        "\n",
        "**In simple terms**:\n",
        "\n",
        "Coin toss - there are 2 possible outcomes (heads or tails). Therefore the probability that the coin will land on heads is 1/2 (or 0.5). \n",
        "\n",
        "In general **bold text**:\n",
        "\n",
        "Probability = number of ways it can happen/total number of outcomes \n",
        "\n",
        "Proability is always between 0 and 1 - (0 = impossible, 1 = certain)\n"
      ]
    },
    {
      "cell_type": "markdown",
      "metadata": {
        "id": "2myiE-r2DAqf"
      },
      "source": [
        "### Coded example coin-toss\n",
        "---\n",
        "The 0.5 (50%) coin toss probability is the probability in ideal conditions. Whilst if we flipped a coin 10 times, we might not get heads 50% of the time, if we flipped a coin 10,000 times, we would see heads close to 50% of the time.\n",
        "\n",
        "Run the code below to simulate coin toss trials.  It is set to 10 tosses of the coin.  Run it a few times to see how the actual proportion of heads varies from the standard probability (0.5).  **You should see that it varies quite a bit**.\n",
        "\n",
        "Now change the number_of_trials to 100 and run it a few times.  **How close does it get now?**\n",
        "\n",
        "Now change the number_of_trials to 1000 and run it a few times.  **How close does it get now?**\n",
        "\n",
        "Try 10000 a 100000. **Does it get closer to 0.5 more often?**\n",
        "\n",
        "**You are seeing the accuracy improve the larger the number of trials.**"
      ]
    },
    {
      "cell_type": "code",
      "execution_count": null,
      "metadata": {
        "id": "ELzTbtliDAqk"
      },
      "outputs": [],
      "source": [
        "import random\n",
        "# generate a coin toss and return 1 if it tossed a head and 0 if it was a tail\n",
        "def toss_the_coin():\n",
        "    coin_toss = random.random()\n",
        "    if coin_toss <= 0.5:\n",
        "      return 1\n",
        "    else:\n",
        "      return 0\n",
        "\n",
        "\n",
        "# simulate tossing a coin n times, counting the number of heads and returning that number divided by the number of times)\n",
        "def simulate(n):\n",
        "  num_heads = 0\n",
        "  for i in range(n):\n",
        "    num_heads += toss_the_coin()\n",
        "  return num_heads/n\n",
        "\n",
        "# Test with simulations\n",
        "number_of_trials = 1000\n",
        "result = simulate(number_of_trials)\n",
        "print(result, \"-\", str(int(result*100))+\"% of coin tosses were heads\")"
      ]
    },
    {
      "cell_type": "markdown",
      "metadata": {
        "id": "Up_XZsqWDAqn"
      },
      "source": [
        "The above confirms that our probability is correct as whilst there is a large amount of error when the number of trials is quite low (10), the error almost disappears when a higher number of trials is conducted (10000). This means, as long as there is enough data, we can calculate probabilities from real-world observations. \n",
        "\n",
        "**In practice, this means, that if you have a very large dataset, it is possible to calculate the probability that a particular event will occur / not occur. A common use-case for probability in data science is hypothesis testing - so calculating the probability that your hypothesis is likely to occur. **"
      ]
    },
    {
      "cell_type": "markdown",
      "metadata": {
        "id": "oFrOPBT3DAqp"
      },
      "source": [
        "## Key Expressions:\n",
        "---\n",
        "**P(A**) stands for Probability of event A  \n",
        "**P(B)** stands for probability of event B"
      ]
    },
    {
      "cell_type": "markdown",
      "metadata": {
        "id": "bEuBhIT2DAq0"
      },
      "source": [
        "### Independent Events\n",
        "---\n",
        "Independent events are events which are NOT affected by previous events. So if we take our coin toss, no matter what has come up on previous tosses, it has no impact on subsequent coin tosses (ie the probability is not affected). So even if heads has come up 3 times in a row, it's still  50% likely to come up on the 4th toss. \n",
        "\n",
        "To work out the probability of two independent events occuring together:\n",
        "  \n",
        "Probability of 'Event A' AND 'Event B' occuring = Probability of Event A * Probability of Event B\n",
        "\n",
        "`A AND B = P(A) * P(B)`\n",
        "\n",
        "### Mutually exclusive events\n",
        "---\n",
        "Mutually exclusive events are events which simply CANNOT happen simultaneously - for example, you cannot throw both a 2 and a 5 on a single die at once. \n",
        "\n",
        "To work out probability of mututally exclusive events (so Event A OR event B occurring) = Probability of Event A + Probability of Event B\n",
        "\n",
        "`A OR B = P(A) + P(B)`\n"
      ]
    },
    {
      "cell_type": "markdown",
      "metadata": {
        "id": "yxXFYmjoDAq2"
      },
      "source": [
        "### Conditional Probability\n",
        "---\n",
        "Conditional probability is when subsequent probabilities depend on a previous event having occured (so the opposite to independent).  \n",
        "\n",
        "**For example**: You have a bag with 6 balls in (3 red and 3 blue), but you want the bag to only contain blue balls.  \n",
        "\n",
        "If you draw a ball, the probability that it is red is 3/6 or 0.5. The probability that it is blue is also 3/6 or 0.5.  \n",
        "\n",
        "You draw a red ball, then throw this ball in the bin.  There are 5 balls left in the bag, 3 blue and 2 red.   \n",
        "\n",
        "If you draw a second ball, the probability that it is red is now 2/5 or 0.4 and the probability that it is blue is 3/5 or 0.6.  The probabilities are altered as there are now more blue than red balls left in the bag. \n",
        "\n",
        "You draw another ball, this time its blue.  You throw this one in the bin as well.  There are now 4 balls left in the bag, 2 red and 2 blue.  The probability of drawing a red is now 0.5 again, and the probability of blue has now returned to 0.5.\n",
        "\n",
        "To work out conditional probabilities (dependent events):  \n",
        "\n",
        "`Probability of event A and event B = probability of event A * probability of event B GIVEN event A has happened`  \n",
        "\n",
        "So: Probability of drawing a red then a blue ball for example:  \n",
        "\n",
        "Probability of drawing Red (3/6 or 0.5) * Probability of drawing blue given a red has been removed (3/5 or 0.6)  \n",
        " = 0.5 * 0.6 = 0.3"
      ]
    },
    {
      "cell_type": "markdown",
      "metadata": {
        "id": "wowa3HlCDAq5"
      },
      "source": [
        "### Exercise 1 - dice pairs\n",
        "---\n",
        "Imagine you roll two dice. The probability that they are both the same number (ie a double) is:\n",
        "1/6  (there are 36 possible combinations of two numbers and 6 of them are doubles)   \n",
        "\n",
        "Create a function that:\n",
        "* assigns a random number to each dice (between 1 and 6) to simulate rolling the dice (use random.randint(1,6) for each)\n",
        "* does this 100 times and counts the number of times that the two dice are the same\n",
        "* returns the number of doubles divided by the number of throws (in this case 100)\n",
        "\n",
        "Run the function and print the result.  \n",
        "\n",
        "Is it generally around 1/6 or 0.167?\n",
        "\n",
        "What happens if you roll 1000 times instead of 100?"
      ]
    },
    {
      "cell_type": "code",
      "execution_count": 10,
      "metadata": {
        "id": "z8nFPPH8DAq8",
        "colab": {
          "base_uri": "https://localhost:8080/"
        },
        "outputId": "cfc81ca2-b865-403c-ff8e-812626bb6882"
      },
      "outputs": [
        {
          "output_type": "stream",
          "name": "stdout",
          "text": [
            "0.13 - 13%\n"
          ]
        }
      ],
      "source": [
        "import random\n",
        "# simulate two roll dice return 1 if both are same and 0 if it not same\n",
        "def simulate():\n",
        "    dice_roll_1 = random.randint(1,6)\n",
        "    dice_roll_2 = random.randint(1,6)\n",
        "    if dice_roll_1 == dice_roll_2:\n",
        "      return 1\n",
        "    else:\n",
        "      return 0\n",
        "# rollig two dice and calculating number of doubles divided by the number of throws\n",
        "def roll_the_dice(num_of_times):\n",
        "  num_of_doubles = 0\n",
        "  num_of_throws = num_of_times\n",
        "  for i in range(num_of_times):\n",
        "      num_of_doubles += simulate()\n",
        "  return num_of_doubles/num_of_throws\n",
        "\n",
        "result = roll_the_dice(100)\n",
        "print(result, \"-\", str(int(result*100))+\"%\")\n"
      ]
    },
    {
      "cell_type": "markdown",
      "metadata": {
        "id": "O5dF6M7pDArF"
      },
      "source": [
        "### Exercise 2\n",
        "---\n",
        "The probability of getting 3 heads in a row if you toss a coin three times is:\n",
        "```\n",
        "0.5 * 0.5 * 0.5 which is 0.125\n",
        "```\n",
        "This means that if you were to toss a coin 1000 times you would expect to get 3 in a row 125 times (0.125 * 1000)\n",
        "\n",
        "Write a function that will be given the number of times in a row (num_in_a_row, and the number of times the coin will be tossed (num_times)-*see the code cell*.\n",
        "\n",
        "It will:\n",
        "\n",
        "* calculate the probability of getting a heads `num_in_a_row` times \n",
        "* calculate how many times  `num_in_a_row` heads be tossed if the coin was tossed `num_times`  \n",
        "* prints the probability\n",
        "* returns the expected number of times\n",
        "\n",
        "**Expected output if `num_in_a_row` is 3 and `num_times` is 1000:**\n",
        "Probability: 0.125  \n",
        "Expected number of times for 3 heads in a row:  125\n",
        "\n",
        "**TEST THE CODE:**  \n",
        "Change rows to 2 and times to 100 and run the code again.  You should see the probability is 0.25 and Expected number of times for 2 heads in a row: 25\n"
      ]
    },
    {
      "cell_type": "code",
      "execution_count": 2,
      "metadata": {
        "id": "NBDDbq6sDArH",
        "colab": {
          "base_uri": "https://localhost:8080/"
        },
        "outputId": "5ff1fe56-f2fe-433f-87df-034b58cfd127"
      },
      "outputs": [
        {
          "output_type": "stream",
          "name": "stdout",
          "text": [
            "Expected number of times for 3 heads in a row: 111\n"
          ]
        }
      ],
      "source": [
        "import random\n",
        "def calculate_expected(num_in_a_row, num_times):\n",
        "  # add your code here\n",
        "    num_prob = 0\n",
        "    for i in range(num_times):\n",
        "        num_prob += simulate(num_in_a_row)\n",
        "    return num_prob\n",
        "\n",
        "def simulate(num_in_a_row):\n",
        "      num_heads = 0\n",
        "      for i in range(num_in_a_row):\n",
        "          num_heads += toss_the_coin()\n",
        "      return num_heads / num_in_a_row\n",
        "\n",
        "# generate a coin toss and return 1 if it tossed a head and 0 if it was a tail\n",
        "def toss_the_coin():\n",
        "      coin_toss = random.random()\n",
        "      if coin_toss <= 0.125:\n",
        "          return 1\n",
        "      else:\n",
        "          return 0\n",
        "# Test the code\n",
        "row = 3\n",
        "times = 1000\n",
        "result = int(calculate_expected(row, times))\n",
        "print(\"Expected number of times for\", row, \"heads in a row:\",str(result))"
      ]
    },
    {
      "cell_type": "markdown",
      "metadata": {
        "id": "h-FrLDO_DArI"
      },
      "source": [
        "### Exercise 3\n",
        "---\n",
        "\n",
        "A restaurant offers the following options:\n",
        "\n",
        "***Starter – soup or salad***\n",
        "\n",
        "***Main – chicken, fish or vegetarian***\n",
        "\n",
        "***Dessert – ice cream or cake***\n",
        "\n",
        "People may not order a starter or a desert but all diners must order a main.\n",
        "\n",
        "How many possible different combinations of starter, main and dessert are there?\n",
        "\n",
        "The restaurant's data suggests that:\n",
        "\n",
        "* 50% of diners order salad as a starter, 20% order soup and 30% do not have a starter  \n",
        "* 40% order fish, 40% order chicken and 20% order the vegetarian option\n",
        "* 30% order cake, 30% order ice cream and 40% do not order a dessert\n",
        "\n",
        "\n",
        "Write a function that will accept the three choices of food for a three course meal and will return the probable number of diners who would order that combination.   "
      ]
    },
    {
      "cell_type": "code",
      "execution_count": 3,
      "metadata": {
        "id": "Sx2NqL9NDArK",
        "colab": {
          "base_uri": "https://localhost:8080/"
        },
        "outputId": "707cd979-bcd0-4bcb-84ab-3dccab02561c"
      },
      "outputs": [
        {
          "output_type": "stream",
          "name": "stdout",
          "text": [
            "Probable number of diners :  130\n"
          ]
        }
      ],
      "source": [
        "def calculate_probability(starter, main, dessert):\n",
        "  prob_salad = 0.50\n",
        "  prob_soup = 0.20\n",
        "  no_starter = 0.30\n",
        "\n",
        "  prob_chicken = 0.40\n",
        "  prob_fish = 0.40\n",
        "  prob_veg = 0.20\n",
        "\n",
        "  prob_icecream = 0.30\n",
        "  prob_cake = 0.30\n",
        "  no_desert = 0.40\n",
        "\n",
        "  starter_prob = 0\n",
        "  main_prob = 0\n",
        "  desert_prob = 0\n",
        "\n",
        "  if(starter == \"none\"):\n",
        "      starter_prob += no_starter\n",
        "  elif(starter == \"salad\"):\n",
        "      starter_prob += prob_salad\n",
        "  elif(starter == \"soup\"):\n",
        "      starter_prob += prob_soup\n",
        "\n",
        "  if(main == \"chicken\"):\n",
        "      main_prob += prob_chicken\n",
        "  elif(main == \"fish\"):\n",
        "      main_prob += prob_fish\n",
        "  elif (main == \"vegetarian\"):\n",
        "      main_prob += prob_veg\n",
        "\n",
        "  if(dessert ==\"none\"):\n",
        "      desert_prob += no_desert\n",
        "  elif(dessert == \"cake\"):\n",
        "      desert_prob += prob_cake\n",
        "  elif(dessert == \"icecream\"):\n",
        "      desert_prob += prob_icecream\n",
        "\n",
        "  num_of_diners = (starter_prob + main_prob + desert_prob) *100\n",
        "  return num_of_diners\n",
        "\n",
        "\n",
        "print(\"Probable number of diners : \",int(calculate_probability(\"salad\", \"chicken\",\"none\")))"
      ]
    },
    {
      "cell_type": "markdown",
      "metadata": {
        "id": "-yDCIaU9DArL"
      },
      "source": [
        "### Exercise 4 \n",
        "---\n",
        "Write a function,to calculate the probability of selecting a red token from each of the following configurations:\n",
        "\n",
        "1. A bag with 4 red tokens and 4 green tokens.\n",
        "2. A bag with 4 red tokens, 4 green tokens and 10 yellow tokens.\n",
        "3. A bag with 0 red tokens, 4 green tokens and 10 yellow tokens."
      ]
    },
    {
      "cell_type": "code",
      "execution_count": 8,
      "metadata": {
        "id": "GI-G_vGsDArM",
        "colab": {
          "base_uri": "https://localhost:8080/"
        },
        "outputId": "8fd804e9-b990-4a37-894a-118822722aef"
      },
      "outputs": [
        {
          "output_type": "stream",
          "name": "stdout",
          "text": [
            "Probability of Bag1:  0.504\n",
            "Probability of Bag2:  0.215\n",
            "Probability of Bag3:  0.0\n"
          ]
        }
      ],
      "source": [
        "import random\n",
        "\n",
        "def drawing_red_token(numTrials):\n",
        "    bucket1 = ['R', 'R', 'R', 'R', 'G', 'G', 'G', 'G']\n",
        "    bucket2 = ['R', 'R', 'R', 'R', 'G', 'G', 'G', 'G', 'Y', 'Y', 'Y', 'Y', 'Y', 'Y', 'Y', 'Y', 'Y', 'Y']\n",
        "    bucket3 = ['G', 'G', 'G', 'G', 'Y', 'Y', 'Y', 'Y', 'Y', 'Y', 'Y', 'Y', 'Y', 'Y']\n",
        "    counter1 = 0\n",
        "    counter2 = 0\n",
        "    counter3 = 0\n",
        "    for i in range(numTrials):\n",
        "            bag1 = random.choice(bucket1)\n",
        "            bag2 = random.choice(bucket2)\n",
        "            bag3 = random.choice(bucket3)\n",
        "            if bag1 == 'R':\n",
        "                counter1 += 1\n",
        "            if bag2 == 'R':\n",
        "                counter2 += 1\n",
        "            if bag3 == 'R':\n",
        "                counter3 += 1\n",
        "    print(\"Probability of Bag1: \" ,counter1/numTrials)\n",
        "    print(\"Probability of Bag2: \",counter2 / numTrials)\n",
        "    print(\"Probability of Bag3: \",counter3 / numTrials)\n",
        "    return\n",
        "\n",
        "drawing_red_token(1000)"
      ]
    },
    {
      "cell_type": "markdown",
      "metadata": {
        "id": "AHId-PhbDArN"
      },
      "source": [
        "### Exercise 5 - challenging\n",
        "---\n",
        "\n",
        "An experiment consists of selecting a token from a bag and flipping a coin. The bag contains 3 red tokens and 4 blue tokens. A token is selected at random from the bag, its colour is noted and then the token is returned to the bag.\n",
        "\n",
        "When a red token is selected, a biased coin with probability 4/5 of landing heads is spun.\n",
        "\n",
        "When a blue token is selected, a biased coin with probability 2/5 of landing heads is spun.\n",
        "\n",
        "Write a function that will:\n",
        "\n",
        "1. Approximate the probability of picking a red token\n",
        "2. Approximate the probability of obtaining heads\n",
        "3. If a heads is obtained, approximate the probability of also having selected a red token."
      ]
    },
    {
      "cell_type": "code",
      "execution_count": null,
      "metadata": {
        "id": "6FsEcJDzDArN"
      },
      "outputs": [],
      "source": []
    }
  ],
  "metadata": {
    "interpreter": {
      "hash": "aee8b7b246df8f9039afb4144a1f6fd8d2ca17a180786b69acc140d282b71a49"
    },
    "kernelspec": {
      "display_name": "Python 3.10.4 64-bit",
      "language": "python",
      "name": "python3"
    },
    "language_info": {
      "codemirror_mode": {
        "name": "ipython",
        "version": 3
      },
      "file_extension": ".py",
      "mimetype": "text/x-python",
      "name": "python",
      "nbconvert_exporter": "python",
      "pygments_lexer": "ipython3",
      "version": "3.10.4"
    },
    "orig_nbformat": 4,
    "colab": {
      "provenance": [],
      "include_colab_link": true
    }
  },
  "nbformat": 4,
  "nbformat_minor": 0
}