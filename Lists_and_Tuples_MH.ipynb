{
  "nbformat": 4,
  "nbformat_minor": 0,
  "metadata": {
    "colab": {
      "provenance": [],
      "include_colab_link": true
    },
    "kernelspec": {
      "name": "python3",
      "display_name": "Python 3"
    },
    "language_info": {
      "name": "python"
    }
  },
  "cells": [
    {
      "cell_type": "markdown",
      "metadata": {
        "id": "view-in-github",
        "colab_type": "text"
      },
      "source": [
        "<a href=\"https://colab.research.google.com/github/AzuHooks/Course_FutureCoder_MH/blob/main/Lists_and_Tuples_MH.ipynb\" target=\"_parent\"><img src=\"https://colab.research.google.com/assets/colab-badge.svg\" alt=\"Open In Colab\"/></a>"
      ]
    },
    {
      "cell_type": "markdown",
      "metadata": {
        "id": "Z-M-RCWATK71"
      },
      "source": [
        "# Lists and tuples\n",
        "\n",
        "Often we need to store a number of single items of data together so that they can be processed together. This might be because all the data refers to one person (e.g. name, age, gender, etc) OR it might be because we have a set of data (e.g. all the items that should be displayed in a drop down list, such as all the years from this year back to 100 years ago so that someone can select their year of birth)\n",
        "\n",
        "Python has a range of data structures available including:\n",
        "*   lists  \n",
        "*   tuples  \n",
        "*   dictionaries  \n",
        "*   sets\n",
        "\n",
        "This worksheet looks at lists and tuples.\n",
        "\n",
        "## List\n",
        "A list is a set of related, individual data objects, that are indexed and can be processed as a whole, as subsets or as individual items.  Lists are stored, essentially, as contiguous items in memory so that access can be as quick as possible.  However, they are mutable (they can be changed after they are created and stored) and so those mechanisms need to include extra functionality to deal with changing list sizes.\n",
        "\n",
        "## Tuple\n",
        "Essentially the same as a list but it is immutable.  Once it has been created it can't be changed.  It is stored in memory as contiguous items, with the size required being fixed right from the start.  This makes it faster to access.\n",
        "\n",
        "The code below will create two lists and a tuple.\n",
        "*   the first list contains 1000 random numbers between 1 and 100\n",
        "*   the second list is of random length (up to 5000) and each item is one of the 9 characteristics that are protected under the Equality Act in the UK.\n",
        "*   the tuple contains the 9 protected characteristics\n",
        "\n",
        "Before you start the exercises, run the code below.  It will generate the lists and tuple so that you can use them in the exercises.  If you need to recreate the lists again (because you have changed them and need to work on the originals, just run this cell again).\n",
        "\n",
        "***Note:***  *a list variable contains a reference to the start of the list in memory, rather than storing the list itself.  This means that if you assign the list to another variable (to make a copy), it will only copy across the reference.  If you change the copy, you change the original list.*\n",
        "\n",
        "*If you need to make a copy of the list you will need to use a loop to create a new list and copy all items across.*"
      ]
    },
    {
      "cell_type": "code",
      "metadata": {
        "id": "BDRckXeQXFMT"
      },
      "source": [
        "from random import randint, choice\n",
        "\n",
        "def get_num_list():\n",
        "  num_list = [randint(1,100) for n in range(1000)]\n",
        "  return num_list\n",
        "\n",
        "def get_protected_characteristics():\n",
        "  characteristics_tuple = ('age','disability','gender reassignment','marriage and civil partnership','pregnancy and maternity','race','religion or belief','sex','sexual orientation')\n",
        "  return characteristics_tuple\n",
        "\n",
        "def get_protected_characteristic_list(protected_characteristics):\n",
        "  char_list = [choice(protected_characteristics) for ch in range(randint(1,5000))]\n",
        "  return char_list\n",
        "\n",
        "nums = get_num_list()\n",
        "protected_characteristics = get_protected_characteristics()\n",
        "characteristics = get_protected_characteristic_list(protected_characteristics)"
      ],
      "execution_count": 3,
      "outputs": []
    },
    {
      "cell_type": "markdown",
      "metadata": {
        "id": "xXT38-4ZV45n"
      },
      "source": [
        "## The exercises below will use the lists:  \n",
        "*   **nums** (a list of between 1 and 1000 random numbers, each number is between 0 and 1000)\n",
        "*   **characteristics** (a list of 5000 random protected_characteristics)\n",
        "\n",
        "and the tuple:\n",
        "*  **protected_characteristics** (a set of the 9 protected characteristics identified in the Equality Act)\n",
        "\n",
        "## You can run the cell above any number of times to generate new lists."
      ]
    },
    {
      "cell_type": "markdown",
      "metadata": {
        "id": "Ft0dXl7fUuaK"
      },
      "source": [
        "---\n",
        "### Exercise 1 - list head, tail and shape\n",
        "\n",
        "Write a function, **describe_list()** which will:\n",
        "*  print the length of the list `nums`\n",
        "*  print the first 10 items in `nums`  \n",
        "*  print the last 5 items in `nums`"
      ]
    },
    {
      "cell_type": "code",
      "metadata": {
        "id": "jUcZD7mmTJdA",
        "colab": {
          "base_uri": "https://localhost:8080/"
        },
        "outputId": "abfd56ef-d7e7-4b6f-8b37-3ba34fd0f024"
      },
      "source": [
        "print(len(nums))\n",
        "first_10_items = nums[:10]\n",
        "print(first_10_items)\n",
        "last_5_items = nums[-6:-1]\n",
        "print(last_5_items)"
      ],
      "execution_count": 4,
      "outputs": [
        {
          "output_type": "stream",
          "name": "stdout",
          "text": [
            "1000\n",
            "[69, 60, 1, 66, 68, 92, 25, 36, 93, 18]\n",
            "[60, 13, 20, 62, 78]\n"
          ]
        }
      ]
    },
    {
      "cell_type": "markdown",
      "metadata": {
        "id": "yNWg08k6bXv0"
      },
      "source": [
        "---\n",
        "### Exercise 2 - show tuple items\n",
        "\n",
        "Write a function which will:\n",
        "*   use a loop to print the list of protected characteristics from the `protected_characteristics` tuple.\n"
      ]
    },
    {
      "cell_type": "code",
      "metadata": {
        "id": "P2HnCG9pb1BS",
        "colab": {
          "base_uri": "https://localhost:8080/"
        },
        "outputId": "764d81cd-f47b-4492-d4de-0d3f194e0f6b"
      },
      "source": [
        "for items in protected_characteristics:\n",
        "  print(items)"
      ],
      "execution_count": 5,
      "outputs": [
        {
          "output_type": "stream",
          "name": "stdout",
          "text": [
            "age\n",
            "disability\n",
            "gender reassignment\n",
            "marriage and civil partnership\n",
            "pregnancy and maternity\n",
            "race\n",
            "religion or belief\n",
            "sex\n",
            "sexual orientation\n"
          ]
        }
      ]
    },
    {
      "cell_type": "markdown",
      "metadata": {
        "id": "RTSuQZs4b1JU"
      },
      "source": [
        "---\n",
        "### Exercise 3 - list a random subset\n",
        "\n",
        "Write a function which will:\n",
        "*  calculate the position of the middle item in the `characteristics` list   \n",
        "(*Hint: use len() to help with this*)\n",
        "*  calculate the position of the item that is 5 places before the middle item\n",
        "*  calculate the position of the item that is 5 places after the middle item\n",
        "*  print the part of the list that includes the items from 5 places before to 5 places after.  \n",
        "\n",
        "Expected output:  \n",
        "Your list will include 11 items."
      ]
    },
    {
      "cell_type": "code",
      "metadata": {
        "id": "OwhFnH2kdC11",
        "colab": {
          "base_uri": "https://localhost:8080/"
        },
        "outputId": "2c6629f8-1ba1-4692-c207-53ac80b41a27"
      },
      "source": [
        "def calculate_middle():\n",
        "  mid_of_list = len(characteristics)//2\n",
        "  print(\"Middle:\",characteristics[mid_of_list])\n",
        "  print(\"5th before middle:\",characteristics[mid_of_list-5])\n",
        "  print(\"5th after middle:\",characteristics[mid_of_list+5])\n",
        "  sub_list = characteristics[mid_of_list-5 : mid_of_list+6]\n",
        "  print(sub_list)\n",
        "\n",
        "calculate_middle()"
      ],
      "execution_count": 6,
      "outputs": [
        {
          "output_type": "stream",
          "name": "stdout",
          "text": [
            "Middle: religion or belief\n",
            "5th before middle: pregnancy and maternity\n",
            "5th after middle: disability\n",
            "['pregnancy and maternity', 'sexual orientation', 'age', 'race', 'race', 'religion or belief', 'race', 'pregnancy and maternity', 'sex', 'gender reassignment', 'disability']\n"
          ]
        }
      ]
    },
    {
      "cell_type": "markdown",
      "metadata": {
        "id": "KS0x3oFNePI9"
      },
      "source": [
        "---\n",
        "### Exercise 4 - create a copy\n",
        "\n",
        "Write a function which will: use a for loop to create a copy of the `nums` list:\n",
        "\n",
        "*   create a new, empty, list called **new_nums**  (*Hint: an empty list is [ ]*)\n",
        "*   use a for loop which uses the following syntax:  `for num in nums:`\n",
        "*   each time round the loop append `num` to `new_nums`  ( *`new_nums.append(num)`*)\n",
        "*   print the first 10 items of `new_nums`\n",
        "*   print the first 10 items of `nums`\n",
        "*   print the length of both lists"
      ]
    },
    {
      "cell_type": "code",
      "metadata": {
        "id": "mpK1Ip3we-uC",
        "colab": {
          "base_uri": "https://localhost:8080/"
        },
        "outputId": "44a408d2-956f-41bc-9cb5-f3919ca201a9"
      },
      "source": [
        "def new_list_copy():\n",
        "  new_nums = []\n",
        "  for num in nums:\n",
        "    new_nums.append(num)\n",
        "  print(\"First 10 items:\",new_nums[:11])\n",
        "  print(\"First 10 items:\",nums[:11])\n",
        "  print(len(new_nums))\n",
        "  print(len(nums))\n",
        "\n",
        "new_list_copy()"
      ],
      "execution_count": 7,
      "outputs": [
        {
          "output_type": "stream",
          "name": "stdout",
          "text": [
            "First 10 items: [69, 60, 1, 66, 68, 92, 25, 36, 93, 18, 39]\n",
            "First 10 items: [69, 60, 1, 66, 68, 92, 25, 36, 93, 18, 39]\n",
            "1000\n",
            "1000\n"
          ]
        }
      ]
    },
    {
      "cell_type": "markdown",
      "metadata": {
        "id": "deUIFWjRe-3G"
      },
      "source": [
        "\n",
        "\n",
        "```\n",
        "# This is formatted as code\n",
        "```\n",
        "\n",
        "---\n",
        "### Exercise 5 - count the occurrence of age in characteristics\n",
        "\n",
        "Write a function which will use the list method:\n",
        "\n",
        "`num_items = list_name.count(item)`\n",
        "\n",
        "to count the number of occurrences of 'age' in the `characteristics` list.  Print the result."
      ]
    },
    {
      "cell_type": "code",
      "metadata": {
        "id": "b9TrHQ9hfoIU"
      },
      "source": [],
      "execution_count": 8,
      "outputs": []
    },
    {
      "cell_type": "markdown",
      "metadata": {
        "id": "zm2VI5RmfoSy"
      },
      "source": [
        "---\n",
        "### Exercise 6 - sort the nums list\n",
        "\n",
        "Write a function which will:\n",
        "*   call the function `get_num_list()` and store the result in a new list called **sort_nums**\n",
        "*   print the first, and last, 20 items in the `sort_nums` list\n",
        "*   use the `list_name.sort()` method to sort the `sort_nums` list into ascending order\n",
        "*   print the first, and last, 20 items again  \n",
        "*   use the `list_name.sort()` method again to sort the `sort_nums` list into descending order\n",
        "*   print the first, and last, 20 items again"
      ]
    },
    {
      "cell_type": "code",
      "metadata": {
        "id": "Fksgpj9JgWDs",
        "colab": {
          "base_uri": "https://localhost:8080/"
        },
        "outputId": "4f42ee1b-5592-4130-bdb7-b28c35bc38cf"
      },
      "source": [
        "\n",
        "def print_sort_list():\n",
        "  sort_nums = get_num_list()\n",
        "  print(\"Origianl list\")\n",
        "  print(sort_nums[:20])\n",
        "  print(sort_nums[-21:-1])\n",
        "\n",
        "  sort_nums.sort()\n",
        "  print(\"Ascending list\")\n",
        "  print(sort_nums[:20])\n",
        "  print(sort_nums[-21:-1])\n",
        "\n",
        "  sort_nums.sort(reverse = True)\n",
        "  print(\"Descending list\")\n",
        "  print(sort_nums[:20])\n",
        "  print(sort_nums[-21:-1])\n",
        "\n",
        "print_sort_list()"
      ],
      "execution_count": 9,
      "outputs": [
        {
          "output_type": "stream",
          "name": "stdout",
          "text": [
            "Origianl list\n",
            "[62, 54, 11, 34, 69, 55, 88, 17, 71, 76, 25, 75, 46, 58, 30, 66, 51, 58, 48, 46]\n",
            "[50, 25, 32, 29, 34, 6, 30, 46, 31, 47, 67, 36, 36, 83, 56, 62, 3, 20, 45, 24]\n",
            "Ascending list\n",
            "[1, 1, 1, 1, 1, 1, 1, 2, 2, 2, 2, 2, 2, 2, 2, 2, 3, 3, 3, 3]\n",
            "[99, 99, 99, 99, 99, 99, 99, 99, 99, 99, 99, 99, 99, 100, 100, 100, 100, 100, 100, 100]\n",
            "Descending list\n",
            "[100, 100, 100, 100, 100, 100, 100, 100, 99, 99, 99, 99, 99, 99, 99, 99, 99, 99, 99, 99]\n",
            "[3, 3, 3, 3, 3, 2, 2, 2, 2, 2, 2, 2, 2, 2, 1, 1, 1, 1, 1, 1]\n"
          ]
        }
      ]
    },
    {
      "cell_type": "markdown",
      "metadata": {
        "id": "_OF-Xuj1UrW0"
      },
      "source": [
        "---\n",
        "### Exercise 7 - get statistics (max(), min(), sum() )\n",
        "\n",
        "Write a function which will:\n",
        "*   print the maximum and minimum numbers in the `nums` list  \n",
        "*   print the sum of the `nums` list\n",
        "*   calculate and print the average of the `nums` list (using `len()` to help)"
      ]
    },
    {
      "cell_type": "code",
      "metadata": {
        "id": "9YmYMenZVGod",
        "colab": {
          "base_uri": "https://localhost:8080/"
        },
        "outputId": "97268e8a-5607-4959-9d4a-aeb2a5cd45e7"
      },
      "source": [
        "def list_functions():  \n",
        "  print(\"Maximum number:\",max(nums))\n",
        "  print(\"Minimum number:\",min(nums))\n",
        "  print(\"Sum:\",sum(nums))\n",
        "  print(\"Average:\",sum(nums)/len(nums))\n",
        "\n",
        "list_functions()"
      ],
      "execution_count": 10,
      "outputs": [
        {
          "output_type": "stream",
          "name": "stdout",
          "text": [
            "Maximum number: 100\n",
            "Minimum number: 1\n",
            "Sum: 49564\n",
            "Average: 49.564\n"
          ]
        }
      ]
    },
    {
      "cell_type": "markdown",
      "metadata": {
        "id": "Mn4tHQ_KVbHa"
      },
      "source": [
        "---\n",
        "### Exercise 8 - percentage difference\n",
        "\n",
        "Write a function which will:\n",
        "*   generate a new list called **ex8_nums** using `get_num_list()`\n",
        "*   calculate and print the percentage difference between the first number in each list (as a percentage of the number in the nums list) (Hint:  find the difference between the two numbers, divide the difference by the number in `nums` and multiply by 100)\n",
        "*   calculate and print the percentage difference between the last numbers in each list in the same way\n",
        "*   calculate and print the percentage difference between the middle numbers in each list in the same way.\n",
        "*   calculate and print the percentage difference between the sums of each list in the same way"
      ]
    },
    {
      "cell_type": "code",
      "metadata": {
        "id": "nJCQjZIeZL0e",
        "colab": {
          "base_uri": "https://localhost:8080/"
        },
        "outputId": "3de7a811-f47b-4158-d8b3-8a85a09b887c"
      },
      "source": [
        "def find_percentage_diff():\n",
        "  ex8_nums = get_num_list()\n",
        "\n",
        "  print(ex8_nums[0], nums[0])\n",
        "  percent_first_number = (abs(ex8_nums[0] - nums[0]) / nums[0]) * 100\n",
        "  print(\"Percentage difference between first numbers: {:.2f} %\".format(percent_first_number))\n",
        "\n",
        "  print(ex8_nums[-1], nums[-1])\n",
        "  percent_last_number = (abs(ex8_nums[-1] - nums[-1]) / nums[-1]) * 100\n",
        "  print(\"Percentage difference between last numbers: {:.2f} %\".format(percent_last_number))\n",
        "\n",
        "  mid_num_ex8 = len(ex8_nums)//2\n",
        "  mid_num_nums = len(nums)//2\n",
        "  print(ex8_nums[mid_num_ex8],nums[mid_num_nums])\n",
        "  percent_middle_number = (abs(ex8_nums[mid_num_ex8]-nums[mid_num_nums])/nums[mid_num_nums])*100\n",
        "  print(\"Percentage difference between middle numbers: {:.2f}%\".format(percent_last_number))\n",
        "\n",
        "  print(sum(ex8_nums),sum(nums))\n",
        "  percent_sum = (abs(sum(ex8_nums)-sum(nums))/sum(nums))*100\n",
        "  print(\"Percentage difference between last numbers: {:.2f}%\".format(percent_last_number))\n",
        "\n",
        "find_percentage_diff()"
      ],
      "execution_count": 11,
      "outputs": [
        {
          "output_type": "stream",
          "name": "stdout",
          "text": [
            "28 69\n",
            "Percentage difference between first numbers: 59.42 %\n",
            "56 24\n",
            "Percentage difference between last numbers: 133.33 %\n",
            "51 38\n",
            "Percentage difference between middle numbers: 133.33%\n",
            "49387 49564\n",
            "Percentage difference between last numbers: 133.33%\n"
          ]
        }
      ]
    },
    {
      "cell_type": "markdown",
      "metadata": {
        "id": "HNs3lZmYawFO"
      },
      "source": [
        "---\n",
        "### Exercise 9 - characteristic counts\n",
        "\n",
        "Write a function which will:\n",
        "*  iterate through the `protected_characteristics` tuple and for each **characteristic**:\n",
        "*   *   count the number of occurrences of that `characteristic` in the `characteristics` list\n",
        "*   *   print the `protected_characteristic` and the **count**  \n",
        "\n",
        "Example expected output:\n",
        "\n",
        "age 100  \n",
        "disability 120  \n",
        "gender reassignment 120  \n",
        "marriage and civil partnership 111  \n",
        "pregnancy and maternity 103  \n",
        "race 106  \n",
        "religion or belief 95  \n",
        "sex 110  \n",
        "sexual orientation 113  \n",
        "\n",
        "Extra learning:  you can read [here](https://thispointer.com/python-how-to-pad-strings-with-zero-space-or-some-other-character/) how to justify the printed characteristic so that the output is organised into two columns as shown below:  \n",
        "![tabulated output](https://drive.google.com/uc?id=1CCXfX6K5ZeDefnq7vUsqxCDmqvcfY8Mz)\n",
        "\n",
        "\n",
        "\n"
      ]
    },
    {
      "cell_type": "code",
      "metadata": {
        "id": "GURT11albqUs",
        "colab": {
          "base_uri": "https://localhost:8080/"
        },
        "outputId": "3e01f3c9-bf97-4355-d6db-992be900fe78"
      },
      "source": [
        "def count_frequency():\n",
        "  count = 0\n",
        "  print(\"Protected Characteristic\".ljust(32,' '),\"Frequency\\n\")\n",
        "  for item in protected_characteristics:\n",
        "    count = 0\n",
        "    for each in characteristics:\n",
        "      if item == each:\n",
        "        count+=1\n",
        "\n",
        "    print(item.ljust(32,' '),str(count))\n",
        "count_frequency()"
      ],
      "execution_count": 12,
      "outputs": [
        {
          "output_type": "stream",
          "name": "stdout",
          "text": [
            "Protected Characteristic         Frequency\n",
            "\n",
            "age                              559\n",
            "disability                       537\n",
            "gender reassignment              533\n",
            "marriage and civil partnership   526\n",
            "pregnancy and maternity          518\n",
            "race                             551\n",
            "religion or belief               555\n",
            "sex                              545\n",
            "sexual orientation               565\n"
          ]
        }
      ]
    },
    {
      "cell_type": "markdown",
      "metadata": {
        "id": "9Po7yQj-ds38"
      },
      "source": [
        "---\n",
        "### Exercise 10 - characteristics statistics\n",
        "\n",
        "Assuming that the `characteristics` list may have been taken from a study of cases that have been taken to court in relation to the Equality Act.  \n",
        "\n",
        "Write a function which will:\n",
        "\n",
        "*   find the most common characteristic resulting in court action, from this population\n",
        "*   print this in a message, e.g. The characteristic with the highest number of court cases is:  *characteristic*\n",
        "*   print the list of `protected_characteristics`, on one line if possible - see [here](https://www.geeksforgeeks.org/g-fact-25-print-single-multiple-variable-python/)\n",
        "*   ask the user to enter a characteristic that they would like to see statistics on and use a while loop to continue until the user has entered a valid characteristic\n",
        "*   print the characteristic, its frequency and the percentage that this frequency is of the whole population."
      ]
    },
    {
      "cell_type": "code",
      "metadata": {
        "id": "uk_I5z7UgbDs",
        "colab": {
          "base_uri": "https://localhost:8080/"
        },
        "outputId": "100564df-a321-4fac-9dbd-3b452ee982fe"
      },
      "source": [
        "\n",
        "def find_highest():\n",
        "    count=0\n",
        "    highest=0\n",
        "    for item in protected_characteristics:\n",
        "        count = 0\n",
        "        for each in characteristics:\n",
        "            if item == each:\n",
        "                count+=1\n",
        "            if(highest <= count):\n",
        "                highest = count\n",
        "                chart = item\n",
        "    print(\"The characteristic with highest number of court cases is :\",chart,\" number of cases:\",highest)\n",
        "\n",
        "def count_frequency(choice):\n",
        "    count = 0\n",
        "    for item in characteristics:\n",
        "            if item == choice:\n",
        "                count += 1\n",
        "    freq = (count/len(characteristics)) *100\n",
        "    return freq\n",
        "\n",
        "def find_characteristic():\n",
        "    print(\"Protected Characteristics:\")\n",
        "    for each in protected_characteristics:\n",
        "        print(each, end=\" \")\n",
        "    flag = False\n",
        "    print()\n",
        "    while (flag != True):\n",
        "        choice = input(\"Enter a characteristic: \")\n",
        "\n",
        "        for value in protected_characteristics:\n",
        "            if choice == value:\n",
        "                #print(\"Characteristic:\", value)\n",
        "                flag = True\n",
        "                print(\"Frequency to Population: {:.2f}%\".format(count_frequency(choice)))\n",
        "\n",
        "find_highest()\n",
        "find_characteristic()"
      ],
      "execution_count": 13,
      "outputs": [
        {
          "output_type": "stream",
          "name": "stdout",
          "text": [
            "The characteristic with highest number of court cases is : sexual orientation  number of cases: 565\n",
            "Protected Characteristics:\n",
            "age disability gender reassignment marriage and civil partnership pregnancy and maternity race religion or belief sex sexual orientation \n",
            "Enter a characteristic: protected\n",
            "Enter a characteristic: \n",
            "Enter a characteristic: age\n",
            "Frequency to Population: 11.43%\n"
          ]
        }
      ]
    }
  ]
}